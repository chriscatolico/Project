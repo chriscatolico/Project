{
 "cells": [
  {
   "cell_type": "code",
   "execution_count": 1,
   "metadata": {},
   "outputs": [],
   "source": [
    "import pandas as pd\n",
    "import matplotlib.pyplot as plt\n",
    "import numpy as np\n",
    "from scipy import stats"
   ]
  },
  {
   "cell_type": "code",
   "execution_count": 2,
   "metadata": {},
   "outputs": [],
   "source": [
    "df = pd.read_csv('Final Data.csv')"
   ]
  },
  {
   "cell_type": "code",
   "execution_count": 3,
   "metadata": {},
   "outputs": [
    {
     "data": {
      "text/html": [
       "<div>\n",
       "<style scoped>\n",
       "    .dataframe tbody tr th:only-of-type {\n",
       "        vertical-align: middle;\n",
       "    }\n",
       "\n",
       "    .dataframe tbody tr th {\n",
       "        vertical-align: top;\n",
       "    }\n",
       "\n",
       "    .dataframe thead th {\n",
       "        text-align: right;\n",
       "    }\n",
       "</style>\n",
       "<table border=\"1\" class=\"dataframe\">\n",
       "  <thead>\n",
       "    <tr style=\"text-align: right;\">\n",
       "      <th></th>\n",
       "      <th>ZipCode</th>\n",
       "      <th>Weighted 3 Year Average API</th>\n",
       "      <th>Median Home Price</th>\n",
       "      <th>Latitude</th>\n",
       "      <th>Longitude</th>\n",
       "      <th>Home Price Group</th>\n",
       "    </tr>\n",
       "  </thead>\n",
       "  <tbody>\n",
       "    <tr>\n",
       "      <th>0</th>\n",
       "      <td>90001</td>\n",
       "      <td>796.00</td>\n",
       "      <td>267100.0</td>\n",
       "      <td>33.974510</td>\n",
       "      <td>-118.248392</td>\n",
       "      <td>&lt;500k</td>\n",
       "    </tr>\n",
       "    <tr>\n",
       "      <th>1</th>\n",
       "      <td>90002</td>\n",
       "      <td>515.00</td>\n",
       "      <td>254500.0</td>\n",
       "      <td>33.949005</td>\n",
       "      <td>-118.245834</td>\n",
       "      <td>&lt;500k</td>\n",
       "    </tr>\n",
       "    <tr>\n",
       "      <th>2</th>\n",
       "      <td>90003</td>\n",
       "      <td>621.00</td>\n",
       "      <td>279900.0</td>\n",
       "      <td>33.963746</td>\n",
       "      <td>-118.273905</td>\n",
       "      <td>&lt;500k</td>\n",
       "    </tr>\n",
       "    <tr>\n",
       "      <th>3</th>\n",
       "      <td>90004</td>\n",
       "      <td>690.67</td>\n",
       "      <td>1094300.0</td>\n",
       "      <td>34.076131</td>\n",
       "      <td>-118.310856</td>\n",
       "      <td>1M to 1.5M</td>\n",
       "    </tr>\n",
       "    <tr>\n",
       "      <th>4</th>\n",
       "      <td>90005</td>\n",
       "      <td>671.25</td>\n",
       "      <td>685100.0</td>\n",
       "      <td>34.060034</td>\n",
       "      <td>-118.310230</td>\n",
       "      <td>500k to 1M</td>\n",
       "    </tr>\n",
       "  </tbody>\n",
       "</table>\n",
       "</div>"
      ],
      "text/plain": [
       "   ZipCode  Weighted 3 Year Average API  Median Home Price   Latitude  \\\n",
       "0    90001                       796.00           267100.0  33.974510   \n",
       "1    90002                       515.00           254500.0  33.949005   \n",
       "2    90003                       621.00           279900.0  33.963746   \n",
       "3    90004                       690.67          1094300.0  34.076131   \n",
       "4    90005                       671.25           685100.0  34.060034   \n",
       "\n",
       "    Longitude Home Price Group  \n",
       "0 -118.248392            <500k  \n",
       "1 -118.245834            <500k  \n",
       "2 -118.273905            <500k  \n",
       "3 -118.310856       1M to 1.5M  \n",
       "4 -118.310230       500k to 1M  "
      ]
     },
     "execution_count": 3,
     "metadata": {},
     "output_type": "execute_result"
    }
   ],
   "source": [
    "bins = [0,500000,1000000,1500000, 99999999]\n",
    "binnames = ['<500k','500k to 1M','1M to 1.5M','1.5M+']\n",
    "df['Home Price Group'] = pd.cut(df['Median Home Price'],bins,labels=binnames)\n",
    "df.head()"
   ]
  },
  {
   "cell_type": "code",
   "execution_count": 4,
   "metadata": {},
   "outputs": [],
   "source": [
    "dfunder500k = df.loc[df['Home Price Group'] == binnames[0]]\n",
    "df500kto1M = df.loc[df['Home Price Group'] == binnames[1]]\n",
    "df1Mto15M = df.loc[df['Home Price Group'] == binnames[2]]\n",
    "dfover15M = df.loc[df['Home Price Group'] == binnames[3]]"
   ]
  },
  {
   "cell_type": "code",
   "execution_count": 5,
   "metadata": {},
   "outputs": [],
   "source": [
    "boxplotdata = [dfunder500k['Weighted 3 Year Average API'],df500kto1M['Weighted 3 Year Average API'],\n",
    "               df1Mto15M['Weighted 3 Year Average API'], dfover15M['Weighted 3 Year Average API']]"
   ]
  },
  {
   "cell_type": "code",
   "execution_count": 6,
   "metadata": {},
   "outputs": [
    {
     "ename": "SyntaxError",
     "evalue": "invalid syntax (<ipython-input-6-c8c16e5a970d>, line 8)",
     "output_type": "error",
     "traceback": [
      "\u001b[1;36m  File \u001b[1;32m\"<ipython-input-6-c8c16e5a970d>\"\u001b[1;36m, line \u001b[1;32m8\u001b[0m\n\u001b[1;33m    ax.tick_params(axis='both', which='major', labelsize=14)b\u001b[0m\n\u001b[1;37m                                                            ^\u001b[0m\n\u001b[1;31mSyntaxError\u001b[0m\u001b[1;31m:\u001b[0m invalid syntax\n"
     ]
    }
   ],
   "source": [
    "fig, ax = plt.subplots(figsize=(10,10))\n",
    "bp = ax.boxplot(boxplotdata, patch_artist=True)\n",
    "ax.set_ylim(300, 1000)\n",
    "ax.set_xticklabels(binnames)\n",
    "ax.set_title('Home Price versus API Score',fontsize=16, fontweight=\"bold\")\n",
    "ax.set_ylabel('3-Year Average API',fontsize=16, fontweight=\"bold\")\n",
    "ax.set_xlabel('Median Home Price',fontsize=12, fontweight=\"bold\")\n",
    "ax.tick_params(axis='both', which='major', labelsize=14)b\n",
    "ax.tick_params(axis='both', which='minor', labelsize=14)\n",
    "plt.setp(bp['medians'], color = 'red')\n",
    "plt.setp(bp['whiskers'], color = 'green')\n",
    "plt.savefig('BoxPlot.png')"
   ]
  },
  {
   "cell_type": "code",
   "execution_count": null,
   "metadata": {},
   "outputs": [],
   "source": [
    "stats.f_oneway(\n",
    "            dfunder500k['Weighted 3 Year Average API'],\n",
    "            df500kto1M['Weighted 3 Year Average API'],\n",
    "            df1Mto15M['Weighted 3 Year Average API'], \n",
    "            dfover15M['Weighted 3 Year Average API']\n",
    "        )"
   ]
  },
  {
   "cell_type": "code",
   "execution_count": null,
   "metadata": {
    "scrolled": false
   },
   "outputs": [],
   "source": [
    "plt.subplots(1,figsize=(10,10));\n",
    "plt.scatter(df['Median Home Price'],df['Weighted 3 Year Average API']);\n",
    "plt.ylim(300, 1000);\n",
    "plt.xlim(0, 2000000);\n",
    "plt.title('Home Price versus API Score',fontsize=16, fontweight=\"bold\");\n",
    "plt.ylabel('3-Year Average API',fontsize=16, fontweight=\"bold\");\n",
    "plt.xlabel('Median Home Price',fontsize=14, fontweight=\"bold\")\n",
    "plt.tick_params(axis='both', which='major', labelsize=14)\n",
    "plt.tick_params(axis='both', which='minor', labelsize=14)\n",
    "\n",
    "def regressionline(x):\n",
    "    y = stats.linregress(df[\"Median Home Price\"],df['Weighted 3 Year Average API']).intercept + stats.linregress(df[\"Median Home Price\"],df['Weighted 3 Year Average API']).slope * x\n",
    "    return y\n",
    "\n",
    "z = np.arange(0,3000000,250000);\n",
    "y = [regressionline(x) for x in z];\n",
    "regline = plt.plot(z,y);\n",
    "plt.setp(regline, color = 'red');\n",
    "plt.savefig('ScatterPlot.png')"
   ]
  },
  {
   "cell_type": "code",
   "execution_count": null,
   "metadata": {},
   "outputs": [],
   "source": [
    "stats.linregress(df[\"Median Home Price\"],df['Weighted 3 Year Average API'])"
   ]
  },
  {
   "cell_type": "code",
   "execution_count": null,
   "metadata": {},
   "outputs": [],
   "source": []
  },
  {
   "cell_type": "code",
   "execution_count": null,
   "metadata": {},
   "outputs": [],
   "source": []
  }
 ],
 "metadata": {
  "kernelspec": {
   "display_name": "Python 3",
   "language": "python",
   "name": "python3"
  },
  "language_info": {
   "codemirror_mode": {
    "name": "ipython",
    "version": 3
   },
   "file_extension": ".py",
   "mimetype": "text/x-python",
   "name": "python",
   "nbconvert_exporter": "python",
   "pygments_lexer": "ipython3",
   "version": "3.7.1"
  }
 },
 "nbformat": 4,
 "nbformat_minor": 2
}
