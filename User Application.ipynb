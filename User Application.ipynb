{
 "cells": [
  {
   "cell_type": "code",
   "execution_count": 54,
   "metadata": {},
   "outputs": [],
   "source": [
    "import tkinter as tk\n",
    "import matplotlib.pyplot as plt\n",
    "import numpy as np\n",
    "import matplotlib as mpl\n",
    "import pandas as pd\n",
    "\n",
    "from tkinter import *\n",
    "from PIL import ImageTk, Image"
   ]
  },
  {
   "cell_type": "code",
   "execution_count": 55,
   "metadata": {},
   "outputs": [],
   "source": [
    "path = \"Final Data.csv\"\n",
    "file = pd.read_csv(path)"
   ]
  },
  {
   "cell_type": "code",
   "execution_count": 56,
   "metadata": {},
   "outputs": [],
   "source": [
    "#main\n",
    "window = Tk()\n",
    "window.title('House Price and API Scores')\n",
    "window.configure(background='black')\n",
    "window.geometry(\"400x400\")\n",
    "\n",
    "#my photo\n",
    "photo1 = PhotoImage(file='logo.gif')\n",
    "Label (window, image =photo1, bg='black').grid(row=0, column=0, sticky=W)"
   ]
  },
  {
   "cell_type": "code",
   "execution_count": 57,
   "metadata": {},
   "outputs": [],
   "source": [
    "Label (window, text='Enter zip code you would like to research: ', bg = 'black', fg = 'white', font='none 12 bold').grid(row=1, column=0, sticky=W)"
   ]
  },
  {
   "cell_type": "code",
   "execution_count": 58,
   "metadata": {},
   "outputs": [],
   "source": [
    "textentry = Entry(window, width=8, bg='white')\n",
    "textentry.grid(row=2, column=0, sticky=W)"
   ]
  },
  {
   "cell_type": "code",
   "execution_count": 59,
   "metadata": {},
   "outputs": [],
   "source": [
    "def click():\n",
    "    entered_text = int(textentry.get()) #collects text from the text entry box\n",
    "    output.delete(0.0, END)\n",
    "    try:\n",
    "        apiscore = (file.loc[file['ZipCode']==entered_text,['Weighted 3 Year Average API']].values[0][0])\n",
    "        housevalue = (file.loc[file['ZipCode']==entered_text,['Median Home Price']].values[0][0])\n",
    "        output.insert(END, f'Zip Code: {entered_text} \\nAverage School API:{apiscore} \\nMedian Home Price:${housevalue:,.0f}')\n",
    "    except:\n",
    "        output.insert(END,'Zip Code Not Found')    \n",
    "    \n",
    "def close_window():\n",
    "    window.destroy()"
   ]
  },
  {
   "cell_type": "code",
   "execution_count": 60,
   "metadata": {},
   "outputs": [],
   "source": [
    "Button(window, text='Submit', width=6, command=click).grid(row=3, column = 0, sticky=W)"
   ]
  },
  {
   "cell_type": "code",
   "execution_count": 61,
   "metadata": {},
   "outputs": [],
   "source": [
    "Label (window, text='\\nResult:', bg='black', fg='white', font='none 12 bold').grid(row=4, column = 0, sticky=W)"
   ]
  },
  {
   "cell_type": "code",
   "execution_count": 62,
   "metadata": {},
   "outputs": [],
   "source": [
    "output = Text(window, width=75, height=3, wrap=WORD, background='white')\n",
    "output.grid(row=5, column=0, columnspan=2, sticky=W)"
   ]
  },
  {
   "cell_type": "code",
   "execution_count": 63,
   "metadata": {},
   "outputs": [],
   "source": [
    "Button(window, text='Exit', width=14, command=close_window).grid(row=6, column=0, sticky=W)"
   ]
  },
  {
   "cell_type": "code",
   "execution_count": null,
   "metadata": {},
   "outputs": [],
   "source": [
    "window.mainloop()"
   ]
  },
  {
   "cell_type": "code",
   "execution_count": null,
   "metadata": {},
   "outputs": [],
   "source": []
  },
  {
   "cell_type": "code",
   "execution_count": null,
   "metadata": {},
   "outputs": [],
   "source": []
  },
  {
   "cell_type": "code",
   "execution_count": null,
   "metadata": {},
   "outputs": [],
   "source": []
  },
  {
   "cell_type": "code",
   "execution_count": null,
   "metadata": {},
   "outputs": [],
   "source": []
  },
  {
   "cell_type": "code",
   "execution_count": null,
   "metadata": {},
   "outputs": [],
   "source": []
  },
  {
   "cell_type": "code",
   "execution_count": null,
   "metadata": {},
   "outputs": [],
   "source": []
  }
 ],
 "metadata": {
  "kernelspec": {
   "display_name": "Python 3",
   "language": "python",
   "name": "python3"
  },
  "language_info": {
   "codemirror_mode": {
    "name": "ipython",
    "version": 3
   },
   "file_extension": ".py",
   "mimetype": "text/x-python",
   "name": "python",
   "nbconvert_exporter": "python",
   "pygments_lexer": "ipython3",
   "version": "3.6.5"
  }
 },
 "nbformat": 4,
 "nbformat_minor": 2
}
