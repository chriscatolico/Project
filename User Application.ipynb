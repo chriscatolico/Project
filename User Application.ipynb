{
 "cells": [
  {
   "cell_type": "code",
   "execution_count": 11,
   "metadata": {},
   "outputs": [],
   "source": [
    "import tkinter as tk\n",
    "import matplotlib.pyplot as plt\n",
    "import numpy as np\n",
    "import matplotlib as mpl\n",
    "\n",
    "from tkinter import *\n",
    "from PIL import ImageTk, Image"
   ]
  },
  {
   "cell_type": "code",
   "execution_count": 9,
   "metadata": {},
   "outputs": [
    {
     "ename": "AttributeError",
     "evalue": "'NoneType' object has no attribute 'tk'",
     "output_type": "error",
     "traceback": [
      "\u001b[1;31m---------------------------------------------------------------------------\u001b[0m",
      "\u001b[1;31mAttributeError\u001b[0m                            Traceback (most recent call last)",
      "\u001b[1;32m<ipython-input-9-59319f746a29>\u001b[0m in \u001b[0;36m<module>\u001b[1;34m()\u001b[0m\n\u001b[0;32m     52\u001b[0m \u001b[1;33m\u001b[0m\u001b[0m\n\u001b[0;32m     53\u001b[0m \u001b[1;31m# Let Tk take over\u001b[0m\u001b[1;33m\u001b[0m\u001b[1;33m\u001b[0m\u001b[0m\n\u001b[1;32m---> 54\u001b[1;33m \u001b[0mtk\u001b[0m\u001b[1;33m.\u001b[0m\u001b[0mmainloop\u001b[0m\u001b[1;33m(\u001b[0m\u001b[1;33m)\u001b[0m\u001b[1;33m\u001b[0m\u001b[0m\n\u001b[0m",
      "\u001b[1;32m~\\AppData\\Local\\Continuum\\anaconda3\\lib\\tkinter\\__init__.py\u001b[0m in \u001b[0;36mmainloop\u001b[1;34m(n)\u001b[0m\n\u001b[0;32m    555\u001b[0m \u001b[1;32mdef\u001b[0m \u001b[0mmainloop\u001b[0m\u001b[1;33m(\u001b[0m\u001b[0mn\u001b[0m\u001b[1;33m=\u001b[0m\u001b[1;36m0\u001b[0m\u001b[1;33m)\u001b[0m\u001b[1;33m:\u001b[0m\u001b[1;33m\u001b[0m\u001b[0m\n\u001b[0;32m    556\u001b[0m     \u001b[1;34m\"\"\"Run the main loop of Tcl.\"\"\"\u001b[0m\u001b[1;33m\u001b[0m\u001b[0m\n\u001b[1;32m--> 557\u001b[1;33m     \u001b[0m_default_root\u001b[0m\u001b[1;33m.\u001b[0m\u001b[0mtk\u001b[0m\u001b[1;33m.\u001b[0m\u001b[0mmainloop\u001b[0m\u001b[1;33m(\u001b[0m\u001b[0mn\u001b[0m\u001b[1;33m)\u001b[0m\u001b[1;33m\u001b[0m\u001b[0m\n\u001b[0m\u001b[0;32m    558\u001b[0m \u001b[1;33m\u001b[0m\u001b[0m\n\u001b[0;32m    559\u001b[0m \u001b[0mgetint\u001b[0m \u001b[1;33m=\u001b[0m \u001b[0mint\u001b[0m\u001b[1;33m\u001b[0m\u001b[0m\n",
      "\u001b[1;31mAttributeError\u001b[0m: 'NoneType' object has no attribute 'tk'"
     ]
    }
   ],
   "source": [
    "import matplotlib as mpl\n",
    "import matplotlib.backends.tkagg as tkagg\n",
    "from matplotlib.backends.backend_agg import FigureCanvasAgg\n",
    "\n",
    "\n",
    "def draw_figure(canvas, figure, loc=(0, 0)):\n",
    "    \"\"\" Draw a matplotlib figure onto a Tk canvas\n",
    "\n",
    "    loc: location of top-left corner of figure on canvas in pixels.\n",
    "    Inspired by matplotlib source: lib/matplotlib/backends/backend_tkagg.py\n",
    "    \"\"\"\n",
    "    figure_canvas_agg = FigureCanvasAgg(figure)\n",
    "    figure_canvas_agg.draw()\n",
    "    figure_x, figure_y, figure_w, figure_h = figure.bbox.bounds\n",
    "    figure_w, figure_h = int(figure_w), int(figure_h)\n",
    "    photo = tk.PhotoImage(master=canvas, width=figure_w, height=figure_h)\n",
    "\n",
    "    # Position: convert from top-left anchor to center anchor\n",
    "    canvas.create_image(loc[0] + figure_w/2, loc[1] + figure_h/2, image=photo)\n",
    "\n",
    "    # Unfortunately, there's no accessor for the pointer to the native renderer\n",
    "    tkagg.blit(photo, figure_canvas_agg.get_renderer()._renderer, colormode=2)\n",
    "\n",
    "    # Return a handle which contains a reference to the photo object\n",
    "    # which must be kept live or else the picture disappears\n",
    "    return photo\n",
    "\n",
    "    # Create a canvas\n",
    "    w, h = 300, 200\n",
    "    window = tk.Tk()\n",
    "    window.title(\"A figure in a canvas\")\n",
    "    canvas = tk.Canvas(window, width=w, height=h)\n",
    "    canvas.pack()\n",
    "\n",
    "    # Generate some example data\n",
    "    X = np.linspace(0, 2 * np.pi, 50)\n",
    "    Y = np.sin(X)\n",
    "\n",
    "    # Create the figure we desire to add to an existing canvas\n",
    "    fig = mpl.figure.Figure(figsize=(2, 1))\n",
    "    ax = fig.add_axes([0, 0, 1, 1])\n",
    "    ax.plot(X, Y)\n",
    "\n",
    "    # Keep this handle alive, or else figure will disappear\n",
    "    fig_x, fig_y = 100, 100\n",
    "    fig_photo = draw_figure(canvas, fig, loc=(fig_x, fig_y))\n",
    "    fig_w, fig_h = fig_photo.width(), fig_photo.height()\n",
    "\n",
    "    # Add more elements to the canvas, potentially on top of the figure\n",
    "    canvas.create_line(200, 50, fig_x + fig_w / 2, fig_y + fig_h / 2)\n",
    "    canvas.create_text(200, 50, text=\"Zero-crossing\", anchor=\"s\")\n",
    "\n",
    "# Let Tk take over\n",
    "tk.mainloop()"
   ]
  },
  {
   "cell_type": "code",
   "execution_count": 25,
   "metadata": {},
   "outputs": [
    {
     "name": "stdout",
     "output_type": "stream",
     "text": [
      "Produce Plots\n"
     ]
    }
   ],
   "source": [
    "class HousePriceGUI:\n",
    "    def __init__(self, master):\n",
    "        self.master = master\n",
    "        master.title(\"House Prices GUI\")\n",
    "\n",
    "        self.label = tk.Label(master, text=\"Check housing prices and school ratings in your area!\")\n",
    "        self.label.pack()\n",
    "\n",
    "        self.greet_button = tk.Button(master, text=\"Enter Zip Code\", command=self.greet)\n",
    "        self.greet_button.pack()\n",
    "\n",
    "        self.close_button = tk.Button(master, text=\"Exit\", command=master.quit)\n",
    "        self.close_button.pack()\n",
    "\n",
    "    def greet(self):\n",
    "        print(\"Produce Plots\")\n",
    "\n",
    "root = tk.Tk()\n",
    "my_gui = HousePriceGUI(root)\n",
    "root.mainloop()\n",
    "root.destroy()"
   ]
  },
  {
   "cell_type": "code",
   "execution_count": 26,
   "metadata": {},
   "outputs": [],
   "source": [
    "#This creates the main window of an application\n",
    "window = tk.Tk()\n",
    "window.title(\"Join\")\n",
    "window.geometry(\"1000x1000\")\n",
    "window.configure(background='grey')\n",
    "\n",
    "path = \"Test.jpg\"\n",
    "\n",
    "#Creates a Tkinter-compatible photo image, which can be used everywhere Tkinter expects an image object.\n",
    "img = ImageTk.PhotoImage(Image.open(path))\n",
    "\n",
    "#The Label widget is a standard Tkinter widget used to display a text or image on the screen.\n",
    "panel = tk.Label(window, image = img)\n",
    "\n",
    "#The Pack geometry manager packs widgets in rows or columns.\n",
    "panel.pack(side = \"bottom\", fill = \"both\", expand = \"yes\")\n",
    "\n",
    "#Start the GUI\n",
    "window.mainloop()"
   ]
  },
  {
   "cell_type": "code",
   "execution_count": 23,
   "metadata": {},
   "outputs": [],
   "source": [
    "def printtext():\n",
    "    global e\n",
    "    string = e.get() \n",
    "    print(string)\n",
    "\n",
    "root = Tk()\n",
    "\n",
    "root.title('Name')\n",
    "\n",
    "e = Entry(root)\n",
    "e.pack()\n",
    "e.focus_set()\n",
    "\n",
    "b = Button(root,text='okay',command=printtext)\n",
    "b.pack(side='bottom')\n",
    "root.mainloop()"
   ]
  },
  {
   "cell_type": "code",
   "execution_count": null,
   "metadata": {},
   "outputs": [],
   "source": []
  }
 ],
 "metadata": {
  "kernelspec": {
   "display_name": "Python 3",
   "language": "python",
   "name": "python3"
  },
  "language_info": {
   "codemirror_mode": {
    "name": "ipython",
    "version": 3
   },
   "file_extension": ".py",
   "mimetype": "text/x-python",
   "name": "python",
   "nbconvert_exporter": "python",
   "pygments_lexer": "ipython3",
   "version": "3.6.5"
  }
 },
 "nbformat": 4,
 "nbformat_minor": 2
}
