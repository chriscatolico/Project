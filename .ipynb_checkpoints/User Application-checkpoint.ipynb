{
 "cells": [
  {
   "cell_type": "code",
   "execution_count": 2,
   "metadata": {},
   "outputs": [],
   "source": [
    "from tkinter import *"
   ]
  },
  {
   "cell_type": "code",
   "execution_count": 21,
   "metadata": {},
   "outputs": [
    {
     "name": "stdout",
     "output_type": "stream",
     "text": [
      "Print Map to Screen\n",
      "Print Map to Screen\n",
      "Print Map to Screen\n",
      "Print Map to Screen\n"
     ]
    }
   ],
   "source": [
    "class Application(Frame):\n",
    "    def plot(self):\n",
    "        print (\"Print Map to Screen\")\n",
    "\n",
    "    def createWidgets(self):\n",
    "        self.QUIT = Button(self)\n",
    "        self.QUIT[\"text\"] = \"QUIT\"\n",
    "        self.QUIT[\"fg\"]   = \"red\"\n",
    "        self.QUIT[\"command\"] =  self.quit\n",
    "\n",
    "        self.QUIT.pack({\"side\": \"right\"})\n",
    "\n",
    "        self.print_plot = Button(self)\n",
    "        self.print_plot[\"text\"] = \"Print Plot\",\n",
    "        self.print_plot[\"command\"] = self.plot\n",
    "\n",
    "        self.print_plot.pack({\"side\": \"left\"})\n",
    "\n",
    "    def __init__(self, master=None):\n",
    "        Frame.__init__(self, master)\n",
    "        self.pack()\n",
    "        self.createWidgets()\n",
    "\n",
    "root = Tk()\n",
    "app = Application(master=root)\n",
    "app.mainloop()\n",
    "root.destroy()"
   ]
  },
  {
   "cell_type": "code",
   "execution_count": null,
   "metadata": {},
   "outputs": [],
   "source": []
  }
 ],
 "metadata": {
  "kernelspec": {
   "display_name": "Python 3",
   "language": "python",
   "name": "python3"
  },
  "language_info": {
   "codemirror_mode": {
    "name": "ipython",
    "version": 3
   },
   "file_extension": ".py",
   "mimetype": "text/x-python",
   "name": "python",
   "nbconvert_exporter": "python",
   "pygments_lexer": "ipython3",
   "version": "3.6.5"
  }
 },
 "nbformat": 4,
 "nbformat_minor": 2
}
